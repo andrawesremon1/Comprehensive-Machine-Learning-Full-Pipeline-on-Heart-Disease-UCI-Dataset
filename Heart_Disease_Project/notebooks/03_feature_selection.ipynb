{
 "cells": [
  {
   "cell_type": "code",
   "execution_count": null,
   "id": "4de17c03",
   "metadata": {},
   "outputs": [
    {
     "name": "stdout",
     "output_type": "stream",
     "text": [
      "Top features RF: [('thal', np.float64(0.1298278830332388)), ('cp', np.float64(0.12286886842300201)), ('thalach', np.float64(0.12070939234146214)), ('ca', np.float64(0.11965177005546491)), ('oldpeak', np.float64(0.10297050875586732)), ('age', np.float64(0.09310446279186849)), ('chol', np.float64(0.07867322624273217)), ('trestbps', np.float64(0.07270929669649953)), ('exang', np.float64(0.04965159872816644)), ('slope', np.float64(0.046548659266172084))]\n",
      "RFE Selected: ['sex', 'cp', 'fbs', 'exang', 'oldpeak', 'slope', 'ca', 'thal']\n",
      "Chi2 Selected: ['sex', 'cp', 'restecg', 'exang', 'oldpeak', 'slope', 'ca', 'thal']\n"
     ]
    }
   ],
   "source": [
    "import pandas as pd\n",
    "import numpy as np\n",
    "from sklearn.ensemble import RandomForestClassifier\n",
    "from sklearn.feature_selection import RFE, SelectKBest, chi2\n",
    "from sklearn.linear_model import LogisticRegression\n",
    "from sklearn.preprocessing import MinMaxScaler\n",
    "\n",
    "df = pd.read_csv(\"../data/heart_clean.csv\")\n",
    "X = df.drop(\"target\", axis=1)\n",
    "y = df[\"target\"]\n",
    "\n",
    "# Random Forest importance\n",
    "rf = RandomForestClassifier(n_estimators=200, random_state=42)\n",
    "rf.fit(X,y)\n",
    "importances = rf.feature_importances_\n",
    "feat_imp = sorted(zip(X.columns, importances), key=lambda x: x[1], reverse=True)\n",
    "print(\"Top features RF:\", feat_imp[:10])\n",
    "\n",
    "# RFE\n",
    "logreg = LogisticRegression(max_iter=1000, random_state=42)\n",
    "rfe = RFE(logreg, n_features_to_select=8)\n",
    "rfe.fit(X,y)\n",
    "print(\"RFE Selected:\", X.columns[rfe.support_].tolist())\n",
    "\n",
    "# Chi2\n",
    "X_scaled = MinMaxScaler().fit_transform(X)\n",
    "chi2_selector = SelectKBest(score_func=chi2, k=8)\n",
    "chi2_selector.fit(X_scaled, y)\n",
    "print(\"Chi2 Selected:\", X.columns[chi2_selector.get_support()].tolist())\n",
    "\n",
    "df_rfe = df[X.columns[rfe.support_].tolist() + [\"target\"]]\n",
    "df_rfe.to_csv(\"../data/heart_selected.csv\", index=False)\n"
   ]
  }
 ],
 "metadata": {
  "kernelspec": {
   "display_name": ".venv",
   "language": "python",
   "name": "python3"
  },
  "language_info": {
   "codemirror_mode": {
    "name": "ipython",
    "version": 3
   },
   "file_extension": ".py",
   "mimetype": "text/x-python",
   "name": "python",
   "nbconvert_exporter": "python",
   "pygments_lexer": "ipython3",
   "version": "3.13.7"
  }
 },
 "nbformat": 4,
 "nbformat_minor": 5
}
